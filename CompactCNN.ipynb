{
  "nbformat": 4,
  "nbformat_minor": 0,
  "metadata": {
    "colab": {
      "name": "CompactCNN.ipynb",
      "provenance": [],
      "machine_shape": "hm",
      "authorship_tag": "ABX9TyMtmvIhO4m+OzCG9ps1Z9vy",
      "include_colab_link": true
    },
    "kernelspec": {
      "name": "python3",
      "display_name": "Python 3"
    },
    "language_info": {
      "name": "python"
    },
    "accelerator": "GPU"
  },
  "cells": [
    {
      "cell_type": "markdown",
      "metadata": {
        "id": "view-in-github",
        "colab_type": "text"
      },
      "source": [
        "<a href=\"https://colab.research.google.com/github/mikashaw/SSVEPBrainWaveClassifier/blob/main/CompactCNN.ipynb\" target=\"_parent\"><img src=\"https://colab.research.google.com/assets/colab-badge.svg\" alt=\"Open In Colab\"/></a>"
      ]
    },
    {
      "cell_type": "code",
      "execution_count": null,
      "metadata": {
        "id": "Cfy6sr8s8Dl4"
      },
      "outputs": [],
      "source": [
        "import tensorflow as tf\n",
        "import numpy as np\n",
        "import scipy.io"
      ]
    },
    {
      "cell_type": "code",
      "source": [
        "# build tensorflow model from scratch\n",
        "# use tensorflow  "
      ],
      "metadata": {
        "id": "MZnbhBRP8bkt"
      },
      "execution_count": null,
      "outputs": []
    },
    {
      "cell_type": "code",
      "source": [
        "!git clone https://github.com/aliasvishnu/EEGNet.git"
      ],
      "metadata": {
        "colab": {
          "base_uri": "https://localhost:8080/"
        },
        "id": "lWFhK7QC9AKp",
        "outputId": "20acfd3a-b426-4ff1-aefb-9c5ba37ee300"
      },
      "execution_count": null,
      "outputs": [
        {
          "output_type": "stream",
          "name": "stdout",
          "text": [
            "Cloning into 'EEGNet'...\n",
            "remote: Enumerating objects: 33, done.\u001b[K\n",
            "remote: Total 33 (delta 0), reused 0 (delta 0), pack-reused 33\u001b[K\n",
            "Unpacking objects: 100% (33/33), done.\n"
          ]
        }
      ]
    },
    {
      "cell_type": "code",
      "source": [
        "!git clone https://github.com/mnakanishi/12JFPM_SSVEP.git"
      ],
      "metadata": {
        "colab": {
          "base_uri": "https://localhost:8080/"
        },
        "id": "giOk-6N8hSAB",
        "outputId": "39721773-270a-4efa-be33-af3975cf0e62"
      },
      "execution_count": null,
      "outputs": [
        {
          "output_type": "stream",
          "name": "stdout",
          "text": [
            "Cloning into '12JFPM_SSVEP'...\n",
            "remote: Enumerating objects: 43, done.\u001b[K\n",
            "remote: Total 43 (delta 0), reused 0 (delta 0), pack-reused 43\u001b[K\n",
            "Unpacking objects: 100% (43/43), done.\n"
          ]
        }
      ]
    },
    {
      "cell_type": "code",
      "source": [
        "# load in data for one user\n",
        "\n",
        "data = scipy.io.loadmat(\"/content/12JFPM_SSVEP/data/s1.mat\")"
      ],
      "metadata": {
        "id": "U9gYIOqmiXcO"
      },
      "execution_count": null,
      "outputs": []
    },
    {
      "cell_type": "code",
      "source": [
        "\n",
        "# preprocess and reshaoe the data\n",
        "\n",
        "#make a different class if want to split into train and test\n",
        "\n",
        "\n",
        "class Preprocess:\n",
        "\n",
        "  \"\"\"preprocesses data with shape [Number of targets, Number of channels, Number of sampling points, Number of trials] \n",
        "  returning x_train and y_train dataset\"\"\"\n",
        "\n",
        "  def __init__(self, data):\n",
        "\n",
        "    self.data = data\n",
        "\n",
        "    self._num_targets = None\n",
        "    self._num_channels = None\n",
        "    self._num_sampling_points = None\n",
        "    self._num_trials = None \n",
        "\n",
        "  def process(self):\n",
        "    \"\"\"\n",
        "    main public function: \n",
        "    Returns: reshaped data to shape [trials, samples, channels] in the form of a numpy array\n",
        "    \"\"\"\n",
        "\n",
        "    # get data in the form of an numpy array\n",
        "    np_data = self._to_numpy_array(self.data)\n",
        "    #reshape the array to the desired format\n",
        "    reshaped_arr = self._reshape_data(np_data)\n",
        "    # get the training labels from the dataset and strip off labels from the data\n",
        "    np_data, labels = self._get_labels(reshaped_arr)\n",
        "\n",
        "    return np_data, labels\n",
        "\n",
        "  def _to_numpy_array(self, data):\n",
        "\n",
        "    data= np.array(data['eeg'], dtype='float32')\n",
        "\n",
        "    #set properties\n",
        "    self._num_targets = data.shape[0]\n",
        "    self._num_channels = data.shape[1]\n",
        "    self._num_sampling_points = data.shape[2]\n",
        "    self._num_trials = data.shape[3]\n",
        "\n",
        "    return data\n",
        "\n",
        "  def _reshape_data(self, data):\n",
        "\n",
        "    reshaped_data = data.reshape(self._num_targets, self._num_trials,1, self._num_sampling_points, self._num_channels)\n",
        "    return reshaped_data\n",
        "    \n",
        "\n",
        "  def _get_labels(self, data):\n",
        "\n",
        "    #get a labels for every sample in a trial there are 8 chennels \n",
        "\n",
        "    labels = []\n",
        "    \n",
        "    for class_num in range(0, self._num_targets):\n",
        "      labels.append(([class_num]*self._num_trials*self._num_sampling_points))\n",
        "\n",
        "    data= data[0,:,:,:]\n",
        "    \n",
        "    labels = np.array(np.squeeze(labels))\n",
        "\n",
        "    return data, labels \n",
        "\n",
        "\n",
        "\n"
      ],
      "metadata": {
        "id": "rq7l7k50i9ce"
      },
      "execution_count": null,
      "outputs": []
    },
    {
      "cell_type": "code",
      "source": [
        "preprocessor = Preprocess(data)"
      ],
      "metadata": {
        "id": "CLlmgpflxfco"
      },
      "execution_count": null,
      "outputs": []
    },
    {
      "cell_type": "code",
      "source": [
        "x_train, y_train = preprocessor.process()"
      ],
      "metadata": {
        "id": "CAFGiiuexr9u"
      },
      "execution_count": null,
      "outputs": []
    },
    {
      "cell_type": "code",
      "source": [
        "x_train.shape"
      ],
      "metadata": {
        "colab": {
          "base_uri": "https://localhost:8080/"
        },
        "id": "4BPxZjyy22-n",
        "outputId": "f92fc7db-21c2-45ef-e044-e0b144c84275"
      },
      "execution_count": null,
      "outputs": [
        {
          "output_type": "execute_result",
          "data": {
            "text/plain": [
              "(15, 1, 1114, 8)"
            ]
          },
          "metadata": {},
          "execution_count": 10
        }
      ]
    },
    {
      "cell_type": "code",
      "source": [
        "# model\n",
        "\n",
        "import numpy as np\n",
        "from sklearn.metrics import roc_auc_score, precision_score, recall_score, accuracy_score\n",
        "import torch\n",
        "import torch.nn as nn\n",
        "import torch.optim as optim\n",
        "from torch.autograd import Variable\n",
        "import torch.nn.functional as F\n",
        "import torch.optim as optim"
      ],
      "metadata": {
        "id": "PTaZ1RCkH9Hz"
      },
      "execution_count": null,
      "outputs": []
    },
    {
      "cell_type": "code",
      "source": [
        "\n",
        "class EEGNet(nn.Module):\n",
        "    def __init__(self):\n",
        "        super(EEGNet, self).__init__()\n",
        "        self.T = 120\n",
        "        \n",
        "        # Layer 1\n",
        "        self.conv1 = nn.Conv2d(1, 16, (1, 64), padding = 0)\n",
        "        self.batchnorm1 = nn.BatchNorm2d(16, False)\n",
        "        \n",
        "        # Layer 2\n",
        "        self.padding1 = nn.ZeroPad2d((16, 17, 0, 1))\n",
        "        self.conv2 = nn.Conv2d(1, 4, (2, 32))\n",
        "        self.batchnorm2 = nn.BatchNorm2d(4, False)\n",
        "        self.pooling2 = nn.MaxPool2d(2, 4)\n",
        "        \n",
        "        # Layer 3\n",
        "        self.padding2 = nn.ZeroPad2d((2, 1, 4, 3))\n",
        "        self.conv3 = nn.Conv2d(4, 4, (8, 4))\n",
        "        self.batchnorm3 = nn.BatchNorm2d(4, False)\n",
        "        self.pooling3 = nn.MaxPool2d((2, 4))\n",
        "        \n",
        "        # FC Layer\n",
        "        # NOTE: This dimension will depend on the number of timestamps per sample in your data.\n",
        "        # I have 120 timepoints. \n",
        "        self.fc1 = nn.Linear(4*2*7, 1)\n",
        "        \n",
        "\n",
        "    def forward(self, x):\n",
        "        # Layer 1\n",
        "        x = F.elu(self.conv1(x))\n",
        "        x = self.batchnorm1(x)\n",
        "        x = F.dropout(x, 0.25)\n",
        "        x = x.permute(0, 3, 1, 2)\n",
        "        \n",
        "        # Layer 2\n",
        "        x = self.padding1(x)\n",
        "        x = F.elu(self.conv2(x))\n",
        "        x = self.batchnorm2(x)\n",
        "        x = F.dropout(x, 0.25)\n",
        "        x = self.pooling2(x)\n",
        "        \n",
        "        # Layer 3\n",
        "        x = self.padding2(x)\n",
        "        x = F.elu(self.conv3(x))\n",
        "        x = self.batchnorm3(x)\n",
        "        x = F.dropout(x, 0.25)\n",
        "        x = self.pooling3(x)\n",
        "        \n",
        "        # FC Layer\n",
        "        x = x.reshape(-1, 4*2*7)\n",
        "        x = F.sigmoid(self.fc1(x))\n",
        "        return x\n",
        "\n",
        "\n",
        "\n",
        "\n",
        "\n",
        "\n",
        "\n"
      ],
      "metadata": {
        "id": "CAw5OynfHuWM"
      },
      "execution_count": null,
      "outputs": []
    },
    {
      "cell_type": "code",
      "source": [
        "!pip install torch==1.8.0+cu111 torchvision==0.9.0+cu111 torchaudio==0.8.0 -f https://download.pytorch.org/whl/torch_stable.html"
      ],
      "metadata": {
        "colab": {
          "base_uri": "https://localhost:8080/",
          "height": 731
        },
        "id": "lq_qAVABJVX_",
        "outputId": "4a2e4295-8989-4968-f220-3ad2ea78de84"
      },
      "execution_count": null,
      "outputs": [
        {
          "output_type": "stream",
          "name": "stdout",
          "text": [
            "Looking in links: https://download.pytorch.org/whl/torch_stable.html\n",
            "Collecting torch==1.8.0+cu111\n",
            "  Downloading https://download.pytorch.org/whl/cu111/torch-1.8.0%2Bcu111-cp37-cp37m-linux_x86_64.whl (1982.2 MB)\n",
            "\u001b[K     |█████████████▌                  | 834.1 MB 1.3 MB/s eta 0:14:59tcmalloc: large alloc 1147494400 bytes == 0x56472c172000 @  0x7f7354090615 0x5646f20e94cc 0x5646f21c947a 0x5646f20ec2ed 0x5646f21dde1d 0x5646f215fe99 0x5646f215a9ee 0x5646f20edbda 0x5646f215fd00 0x5646f215a9ee 0x5646f20edbda 0x5646f215c737 0x5646f21dec66 0x5646f215bdaf 0x5646f21dec66 0x5646f215bdaf 0x5646f21dec66 0x5646f215bdaf 0x5646f20ee039 0x5646f2131409 0x5646f20ecc52 0x5646f215fc25 0x5646f215a9ee 0x5646f20edbda 0x5646f215c737 0x5646f215a9ee 0x5646f20edbda 0x5646f215b915 0x5646f20edafa 0x5646f215bc0d 0x5646f215a9ee\n",
            "\u001b[K     |█████████████████               | 1055.7 MB 1.3 MB/s eta 0:12:17tcmalloc: large alloc 1434370048 bytes == 0x5647707c8000 @  0x7f7354090615 0x5646f20e94cc 0x5646f21c947a 0x5646f20ec2ed 0x5646f21dde1d 0x5646f215fe99 0x5646f215a9ee 0x5646f20edbda 0x5646f215fd00 0x5646f215a9ee 0x5646f20edbda 0x5646f215c737 0x5646f21dec66 0x5646f215bdaf 0x5646f21dec66 0x5646f215bdaf 0x5646f21dec66 0x5646f215bdaf 0x5646f20ee039 0x5646f2131409 0x5646f20ecc52 0x5646f215fc25 0x5646f215a9ee 0x5646f20edbda 0x5646f215c737 0x5646f215a9ee 0x5646f20edbda 0x5646f215b915 0x5646f20edafa 0x5646f215bc0d 0x5646f215a9ee\n",
            "\u001b[K     |█████████████████████▋          | 1336.2 MB 1.2 MB/s eta 0:08:57tcmalloc: large alloc 1792966656 bytes == 0x5646f55fa000 @  0x7f7354090615 0x5646f20e94cc 0x5646f21c947a 0x5646f20ec2ed 0x5646f21dde1d 0x5646f215fe99 0x5646f215a9ee 0x5646f20edbda 0x5646f215fd00 0x5646f215a9ee 0x5646f20edbda 0x5646f215c737 0x5646f21dec66 0x5646f215bdaf 0x5646f21dec66 0x5646f215bdaf 0x5646f21dec66 0x5646f215bdaf 0x5646f20ee039 0x5646f2131409 0x5646f20ecc52 0x5646f215fc25 0x5646f215a9ee 0x5646f20edbda 0x5646f215c737 0x5646f215a9ee 0x5646f20edbda 0x5646f215b915 0x5646f20edafa 0x5646f215bc0d 0x5646f215a9ee\n",
            "\u001b[K     |███████████████████████████▎    | 1691.1 MB 13.8 MB/s eta 0:00:22tcmalloc: large alloc 2241208320 bytes == 0x5647603e2000 @  0x7f7354090615 0x5646f20e94cc 0x5646f21c947a 0x5646f20ec2ed 0x5646f21dde1d 0x5646f215fe99 0x5646f215a9ee 0x5646f20edbda 0x5646f215fd00 0x5646f215a9ee 0x5646f20edbda 0x5646f215c737 0x5646f21dec66 0x5646f215bdaf 0x5646f21dec66 0x5646f215bdaf 0x5646f21dec66 0x5646f215bdaf 0x5646f20ee039 0x5646f2131409 0x5646f20ecc52 0x5646f215fc25 0x5646f215a9ee 0x5646f20edbda 0x5646f215c737 0x5646f215a9ee 0x5646f20edbda 0x5646f215b915 0x5646f20edafa 0x5646f215bc0d 0x5646f215a9ee\n",
            "\u001b[K     |████████████████████████████████| 1982.2 MB 1.1 MB/s eta 0:00:01tcmalloc: large alloc 1982251008 bytes == 0x5647e5d44000 @  0x7f735408f1e7 0x5646f211f067 0x5646f20e94cc 0x5646f21c947a 0x5646f20ec2ed 0x5646f21dde1d 0x5646f215fe99 0x5646f215a9ee 0x5646f20edbda 0x5646f215bc0d 0x5646f215a9ee 0x5646f20edbda 0x5646f215bc0d 0x5646f215a9ee 0x5646f20edbda 0x5646f215bc0d 0x5646f215a9ee 0x5646f20edbda 0x5646f215bc0d 0x5646f215a9ee 0x5646f20edbda 0x5646f215bc0d 0x5646f20edafa 0x5646f215bc0d 0x5646f215a9ee 0x5646f20edbda 0x5646f215c737 0x5646f215a9ee 0x5646f20edbda 0x5646f215c737 0x5646f215a9ee\n",
            "tcmalloc: large alloc 2477817856 bytes == 0x56485bfb0000 @  0x7f7354090615 0x5646f20e94cc 0x5646f21c947a 0x5646f20ec2ed 0x5646f21dde1d 0x5646f215fe99 0x5646f215a9ee 0x5646f20edbda 0x5646f215bc0d 0x5646f215a9ee 0x5646f20edbda 0x5646f215bc0d 0x5646f215a9ee 0x5646f20edbda 0x5646f215bc0d 0x5646f215a9ee 0x5646f20edbda 0x5646f215bc0d 0x5646f215a9ee 0x5646f20edbda 0x5646f215bc0d 0x5646f20edafa 0x5646f215bc0d 0x5646f215a9ee 0x5646f20edbda 0x5646f215c737 0x5646f215a9ee 0x5646f20edbda 0x5646f215c737 0x5646f215a9ee 0x5646f20ee271\n",
            "\u001b[K     |████████████████████████████████| 1982.2 MB 4.8 kB/s \n",
            "\u001b[?25hCollecting torchvision==0.9.0+cu111\n",
            "  Downloading https://download.pytorch.org/whl/cu111/torchvision-0.9.0%2Bcu111-cp37-cp37m-linux_x86_64.whl (17.6 MB)\n",
            "\u001b[K     |████████████████████████████████| 17.6 MB 24 kB/s \n",
            "\u001b[?25hCollecting torchaudio==0.8.0\n",
            "  Downloading torchaudio-0.8.0-cp37-cp37m-manylinux1_x86_64.whl (1.9 MB)\n",
            "\u001b[K     |████████████████████████████████| 1.9 MB 5.3 MB/s \n",
            "\u001b[?25hRequirement already satisfied: typing-extensions in /usr/local/lib/python3.7/dist-packages (from torch==1.8.0+cu111) (3.10.0.2)\n",
            "Requirement already satisfied: numpy in /usr/local/lib/python3.7/dist-packages (from torch==1.8.0+cu111) (1.19.5)\n",
            "Requirement already satisfied: pillow>=4.1.1 in /usr/local/lib/python3.7/dist-packages (from torchvision==0.9.0+cu111) (7.1.2)\n",
            "Installing collected packages: torch, torchvision, torchaudio\n",
            "  Attempting uninstall: torch\n",
            "    Found existing installation: torch 1.10.0+cu111\n",
            "    Uninstalling torch-1.10.0+cu111:\n",
            "      Successfully uninstalled torch-1.10.0+cu111\n",
            "  Attempting uninstall: torchvision\n",
            "    Found existing installation: torchvision 0.11.1+cu111\n",
            "    Uninstalling torchvision-0.11.1+cu111:\n",
            "      Successfully uninstalled torchvision-0.11.1+cu111\n",
            "  Attempting uninstall: torchaudio\n",
            "    Found existing installation: torchaudio 0.10.0+cu111\n",
            "    Uninstalling torchaudio-0.10.0+cu111:\n",
            "      Successfully uninstalled torchaudio-0.10.0+cu111\n",
            "\u001b[31mERROR: pip's dependency resolver does not currently take into account all the packages that are installed. This behaviour is the source of the following dependency conflicts.\n",
            "torchtext 0.11.0 requires torch==1.10.0, but you have torch 1.8.0+cu111 which is incompatible.\u001b[0m\n",
            "Successfully installed torch-1.8.0+cu111 torchaudio-0.8.0 torchvision-0.9.0+cu111\n"
          ]
        },
        {
          "output_type": "display_data",
          "data": {
            "application/vnd.colab-display-data+json": {
              "pip_warning": {
                "packages": [
                  "torch"
                ]
              }
            }
          },
          "metadata": {}
        }
      ]
    },
    {
      "cell_type": "code",
      "source": [
        "net = EEGNet().cuda(0)\n",
        "print(net.forward(Variable(torch.Tensor(np.random.rand(1, 1, 120, 64)).cuda(0))))\n",
        "criterion = nn.BCELoss()\n",
        "optimizer = optim.Adam(net.parameters())"
      ],
      "metadata": {
        "id": "MXVlDBGfJIdl",
        "colab": {
          "base_uri": "https://localhost:8080/"
        },
        "outputId": "04f6eb51-0ccb-4f80-bde8-a0c57a044c14"
      },
      "execution_count": null,
      "outputs": [
        {
          "output_type": "stream",
          "name": "stdout",
          "text": [
            "tensor([[0.1177]], device='cuda:0', grad_fn=<SigmoidBackward0>)\n"
          ]
        },
        {
          "output_type": "stream",
          "name": "stderr",
          "text": [
            "/usr/local/lib/python3.7/dist-packages/torch/nn/functional.py:1806: UserWarning: nn.functional.sigmoid is deprecated. Use torch.sigmoid instead.\n",
            "  warnings.warn(\"nn.functional.sigmoid is deprecated. Use torch.sigmoid instead.\")\n"
          ]
        }
      ]
    },
    {
      "cell_type": "markdown",
      "source": [
        ""
      ],
      "metadata": {
        "id": "hgCu70iRKSvC"
      }
    },
    {
      "cell_type": "code",
      "source": [
        "def evaluate(model, X, Y, params = [\"acc\"]):\n",
        "    results = []\n",
        "    batch_size = 100\n",
        "    \n",
        "    predicted = []\n",
        "    \n",
        "    for i in range(len(X)//batch_size):\n",
        "        s = i*batch_size\n",
        "        e = i*batch_size+batch_size\n",
        "        \n",
        "        inputs = Variable(torch.from_numpy(X[s:e]).cuda(0))\n",
        "        pred = model(inputs)\n",
        "        \n",
        "        predicted.append(pred.data.cpu().numpy())\n",
        "        \n",
        "        \n",
        "    inputs = Variable(torch.from_numpy(X).cuda(0))\n",
        "    predicted = model(inputs)\n",
        "    \n",
        "    predicted = predicted.data.cpu().numpy()\n",
        "    \n",
        "    for param in params:\n",
        "        if param == 'acc':\n",
        "            results.append(accuracy_score(Y, np.round(predicted)))\n",
        "        if param == \"auc\":\n",
        "            results.append(roc_auc_score(Y, predicted))\n",
        "        if param == \"recall\":\n",
        "            results.append(recall_score(Y, np.round(predicted)))\n",
        "        if param == \"precision\":\n",
        "            results.append(precision_score(Y, np.round(predicted)))\n",
        "        if param == \"fmeasure\":\n",
        "            precision = precision_score(Y, np.round(predicted))\n",
        "            recall = recall_score(Y, np.round(predicted))\n",
        "            results.append(2*precision*recall/ (precision+recall))\n",
        "    return results\n",
        "\n",
        "\n"
      ],
      "metadata": {
        "id": "70KodJdCImUq"
      },
      "execution_count": null,
      "outputs": []
    },
    {
      "cell_type": "code",
      "source": [
        "# data\n",
        "\n",
        "X_train = np.random.rand(100, 1, 120, 64).astype('float32') # np.random.rand generates between [0, 1)\n",
        "y_train = np.round(np.random.rand(100).astype('float32')) # binary data, so we round it to 0 or 1.\n",
        "\n",
        "X_val = np.random.rand(100, 1, 120, 64).astype('float32')\n",
        "y_val = np.round(np.random.rand(100).astype('float32'))\n",
        "\n",
        "X_test = np.random.rand(100, 1, 120, 64).astype('float32')\n",
        "y_test = np.round(np.random.rand(100).astype('float32'))\n"
      ],
      "metadata": {
        "id": "RKLY7IJ9IrHy"
      },
      "execution_count": null,
      "outputs": []
    },
    {
      "cell_type": "code",
      "source": [
        "len(X_train)"
      ],
      "metadata": {
        "colab": {
          "base_uri": "https://localhost:8080/"
        },
        "id": "EWm6UuTdMzrR",
        "outputId": "4c55afdd-6701-4156-b7af-db986ec1b223"
      },
      "execution_count": null,
      "outputs": [
        {
          "output_type": "execute_result",
          "data": {
            "text/plain": [
              "100"
            ]
          },
          "metadata": {},
          "execution_count": 28
        }
      ]
    },
    {
      "cell_type": "code",
      "source": [
        "\n",
        "\n",
        "batch_size = 32\n",
        "\n",
        "for epoch in range(10):  # loop over the dataset multiple times\n",
        "    print(\"\\nEpoch: \", epoch)\n",
        "    \n",
        "    running_loss = 0.0\n",
        "    for i in range(len(X_train)//batch_size-1):\n",
        "        s = i*batch_size\n",
        "        e = i*batch_size+batch_size\n",
        "        \n",
        "        inputs = torch.from_numpy(X_train[s:e])\n",
        "        labels = torch.FloatTensor(np.array([y_train[s:e]]).T*1.0)\n",
        "        \n",
        "        # wrap them in Variable\n",
        "        inputs, labels = Variable(inputs.cuda(0)), Variable(labels.cuda(0))\n",
        "\n",
        "        # zero the parameter gradients\n",
        "        optimizer.zero_grad()\n",
        "\n",
        "        # forward + backward + optimize\n",
        "        outputs = net(inputs)\n",
        "        loss = criterion(outputs, labels)\n",
        "        loss.backward()\n",
        "        \n",
        "        \n",
        "        optimizer.step()\n",
        "        \n",
        "        running_loss += loss.data\n",
        "    \n",
        "    # Validation accuracy\n",
        "    params = [\"acc\", \"auc\", \"fmeasure\"]\n",
        "    print(params)\n",
        "    print(\"Training Loss \", running_loss)\n",
        "    print(\"Train - \", evaluate(net, X_train, y_train, params))\n",
        "    print(\"Validation - \", evaluate(net, X_val, y_val, params))\n",
        "    print(\"Test - \", evaluate(net, X_test, y_test, params))"
      ],
      "metadata": {
        "id": "4ONVs9BpIvjW",
        "colab": {
          "base_uri": "https://localhost:8080/"
        },
        "outputId": "770cf8ff-bfd8-41f5-ba4c-b2503d86d7e0"
      },
      "execution_count": null,
      "outputs": [
        {
          "output_type": "stream",
          "name": "stdout",
          "text": [
            "\n",
            "Epoch:  0\n",
            "['acc', 'auc', 'fmeasure']\n",
            "Training Loss  tensor(1.4564, device='cuda:0')\n",
            "Train -  [0.56, 0.6033653846153846, 0.4054054054054054]\n",
            "Validation -  [0.56, 0.5362144857943177, 0.42105263157894735]\n",
            "Test -  [0.45, 0.45472756410256415, 0.30379746835443033]\n",
            "\n",
            "Epoch:  1\n",
            "['acc', 'auc', 'fmeasure']\n",
            "Training Loss  tensor(1.3946, device='cuda:0')\n",
            "Train -  [0.58, 0.5272435897435898, 0.5227272727272727]\n",
            "Validation -  [0.53, 0.5314125650260104, 0.49462365591397855]\n",
            "Test -  [0.51, 0.4627403846153846, 0.4731182795698925]\n",
            "\n",
            "Epoch:  2\n",
            "['acc', 'auc', 'fmeasure']\n",
            "Training Loss  tensor(1.2690, device='cuda:0')\n",
            "Train -  [0.52, 0.5220352564102564, 0.48936170212765956]\n",
            "Validation -  [0.52, 0.482593037214886, 0.5555555555555555]\n",
            "Test -  [0.53, 0.5516826923076923, 0.5346534653465348]\n",
            "\n",
            "Epoch:  3\n",
            "['acc', 'auc', 'fmeasure']\n",
            "Training Loss  tensor(1.3434, device='cuda:0')\n",
            "Train -  [0.51, 0.5544871794871795, 0.5050505050505051]\n",
            "Validation -  [0.54, 0.5530212084833934, 0.5892857142857144]\n",
            "Test -  [0.5, 0.5332532051282052, 0.5192307692307693]\n",
            "\n",
            "Epoch:  4\n",
            "['acc', 'auc', 'fmeasure']\n",
            "Training Loss  tensor(1.3837, device='cuda:0')\n",
            "Train -  [0.59, 0.6041666666666666, 0.6019417475728155]\n",
            "Validation -  [0.54, 0.5450180072028812, 0.5208333333333333]\n",
            "Test -  [0.49, 0.49679487179487175, 0.5048543689320388]\n",
            "\n",
            "Epoch:  5\n",
            "['acc', 'auc', 'fmeasure']\n",
            "Training Loss  tensor(1.3320, device='cuda:0')\n",
            "Train -  [0.57, 0.6013621794871794, 0.5376344086021506]\n",
            "Validation -  [0.44, 0.4469787915166067, 0.45098039215686275]\n"
          ]
        },
        {
          "output_type": "stream",
          "name": "stderr",
          "text": [
            "/usr/local/lib/python3.7/dist-packages/torch/nn/functional.py:1806: UserWarning: nn.functional.sigmoid is deprecated. Use torch.sigmoid instead.\n",
            "  warnings.warn(\"nn.functional.sigmoid is deprecated. Use torch.sigmoid instead.\")\n",
            "/usr/local/lib/python3.7/dist-packages/torch/nn/functional.py:1806: UserWarning: nn.functional.sigmoid is deprecated. Use torch.sigmoid instead.\n",
            "  warnings.warn(\"nn.functional.sigmoid is deprecated. Use torch.sigmoid instead.\")\n",
            "/usr/local/lib/python3.7/dist-packages/torch/nn/functional.py:1806: UserWarning: nn.functional.sigmoid is deprecated. Use torch.sigmoid instead.\n",
            "  warnings.warn(\"nn.functional.sigmoid is deprecated. Use torch.sigmoid instead.\")\n",
            "/usr/local/lib/python3.7/dist-packages/torch/nn/functional.py:1806: UserWarning: nn.functional.sigmoid is deprecated. Use torch.sigmoid instead.\n",
            "  warnings.warn(\"nn.functional.sigmoid is deprecated. Use torch.sigmoid instead.\")\n",
            "/usr/local/lib/python3.7/dist-packages/torch/nn/functional.py:1806: UserWarning: nn.functional.sigmoid is deprecated. Use torch.sigmoid instead.\n",
            "  warnings.warn(\"nn.functional.sigmoid is deprecated. Use torch.sigmoid instead.\")\n",
            "/usr/local/lib/python3.7/dist-packages/torch/nn/functional.py:1806: UserWarning: nn.functional.sigmoid is deprecated. Use torch.sigmoid instead.\n",
            "  warnings.warn(\"nn.functional.sigmoid is deprecated. Use torch.sigmoid instead.\")\n",
            "/usr/local/lib/python3.7/dist-packages/torch/nn/functional.py:1806: UserWarning: nn.functional.sigmoid is deprecated. Use torch.sigmoid instead.\n",
            "  warnings.warn(\"nn.functional.sigmoid is deprecated. Use torch.sigmoid instead.\")\n",
            "/usr/local/lib/python3.7/dist-packages/torch/nn/functional.py:1806: UserWarning: nn.functional.sigmoid is deprecated. Use torch.sigmoid instead.\n",
            "  warnings.warn(\"nn.functional.sigmoid is deprecated. Use torch.sigmoid instead.\")\n",
            "/usr/local/lib/python3.7/dist-packages/torch/nn/functional.py:1806: UserWarning: nn.functional.sigmoid is deprecated. Use torch.sigmoid instead.\n",
            "  warnings.warn(\"nn.functional.sigmoid is deprecated. Use torch.sigmoid instead.\")\n",
            "/usr/local/lib/python3.7/dist-packages/torch/nn/functional.py:1806: UserWarning: nn.functional.sigmoid is deprecated. Use torch.sigmoid instead.\n",
            "  warnings.warn(\"nn.functional.sigmoid is deprecated. Use torch.sigmoid instead.\")\n",
            "/usr/local/lib/python3.7/dist-packages/torch/nn/functional.py:1806: UserWarning: nn.functional.sigmoid is deprecated. Use torch.sigmoid instead.\n",
            "  warnings.warn(\"nn.functional.sigmoid is deprecated. Use torch.sigmoid instead.\")\n",
            "/usr/local/lib/python3.7/dist-packages/torch/nn/functional.py:1806: UserWarning: nn.functional.sigmoid is deprecated. Use torch.sigmoid instead.\n",
            "  warnings.warn(\"nn.functional.sigmoid is deprecated. Use torch.sigmoid instead.\")\n",
            "/usr/local/lib/python3.7/dist-packages/torch/nn/functional.py:1806: UserWarning: nn.functional.sigmoid is deprecated. Use torch.sigmoid instead.\n",
            "  warnings.warn(\"nn.functional.sigmoid is deprecated. Use torch.sigmoid instead.\")\n",
            "/usr/local/lib/python3.7/dist-packages/torch/nn/functional.py:1806: UserWarning: nn.functional.sigmoid is deprecated. Use torch.sigmoid instead.\n",
            "  warnings.warn(\"nn.functional.sigmoid is deprecated. Use torch.sigmoid instead.\")\n",
            "/usr/local/lib/python3.7/dist-packages/torch/nn/functional.py:1806: UserWarning: nn.functional.sigmoid is deprecated. Use torch.sigmoid instead.\n",
            "  warnings.warn(\"nn.functional.sigmoid is deprecated. Use torch.sigmoid instead.\")\n",
            "/usr/local/lib/python3.7/dist-packages/torch/nn/functional.py:1806: UserWarning: nn.functional.sigmoid is deprecated. Use torch.sigmoid instead.\n",
            "  warnings.warn(\"nn.functional.sigmoid is deprecated. Use torch.sigmoid instead.\")\n",
            "/usr/local/lib/python3.7/dist-packages/torch/nn/functional.py:1806: UserWarning: nn.functional.sigmoid is deprecated. Use torch.sigmoid instead.\n",
            "  warnings.warn(\"nn.functional.sigmoid is deprecated. Use torch.sigmoid instead.\")\n",
            "/usr/local/lib/python3.7/dist-packages/torch/nn/functional.py:1806: UserWarning: nn.functional.sigmoid is deprecated. Use torch.sigmoid instead.\n",
            "  warnings.warn(\"nn.functional.sigmoid is deprecated. Use torch.sigmoid instead.\")\n"
          ]
        },
        {
          "output_type": "stream",
          "name": "stdout",
          "text": [
            "Test -  [0.45, 0.47716346153846156, 0.4444444444444444]\n",
            "\n",
            "Epoch:  6\n",
            "['acc', 'auc', 'fmeasure']\n",
            "Training Loss  tensor(1.2233, device='cuda:0')\n",
            "Train -  [0.62, 0.6145833333333334, 0.6041666666666666]\n",
            "Validation -  [0.56, 0.5474189675870349, 0.5416666666666666]\n",
            "Test -  [0.46, 0.4547275641025641, 0.4807692307692308]\n",
            "\n",
            "Epoch:  7\n",
            "['acc', 'auc', 'fmeasure']\n",
            "Training Loss  tensor(1.3021, device='cuda:0')\n",
            "Train -  [0.52, 0.5913461538461539, 0.4666666666666667]\n",
            "Validation -  [0.5, 0.5382152861144458, 0.4565217391304348]\n",
            "Test -  [0.54, 0.5520833333333334, 0.4772727272727273]\n",
            "\n",
            "Epoch:  8\n",
            "['acc', 'auc', 'fmeasure']\n",
            "Training Loss  tensor(1.1479, device='cuda:0')\n",
            "Train -  [0.61, 0.6049679487179487, 0.5411764705882353]\n",
            "Validation -  [0.45, 0.43657462985194084, 0.39560439560439564]\n",
            "Test -  [0.48, 0.4166666666666667, 0.40909090909090906]\n",
            "\n",
            "Epoch:  9\n",
            "['acc', 'auc', 'fmeasure']\n",
            "Training Loss  tensor(1.2805, device='cuda:0')\n",
            "Train -  [0.61, 0.6534455128205128, 0.5185185185185185]\n",
            "Validation -  [0.5, 0.5162064825930371, 0.4444444444444445]\n",
            "Test -  [0.41, 0.4354967948717949, 0.40404040404040403]\n"
          ]
        },
        {
          "output_type": "stream",
          "name": "stderr",
          "text": [
            "/usr/local/lib/python3.7/dist-packages/torch/nn/functional.py:1806: UserWarning: nn.functional.sigmoid is deprecated. Use torch.sigmoid instead.\n",
            "  warnings.warn(\"nn.functional.sigmoid is deprecated. Use torch.sigmoid instead.\")\n",
            "/usr/local/lib/python3.7/dist-packages/torch/nn/functional.py:1806: UserWarning: nn.functional.sigmoid is deprecated. Use torch.sigmoid instead.\n",
            "  warnings.warn(\"nn.functional.sigmoid is deprecated. Use torch.sigmoid instead.\")\n",
            "/usr/local/lib/python3.7/dist-packages/torch/nn/functional.py:1806: UserWarning: nn.functional.sigmoid is deprecated. Use torch.sigmoid instead.\n",
            "  warnings.warn(\"nn.functional.sigmoid is deprecated. Use torch.sigmoid instead.\")\n",
            "/usr/local/lib/python3.7/dist-packages/torch/nn/functional.py:1806: UserWarning: nn.functional.sigmoid is deprecated. Use torch.sigmoid instead.\n",
            "  warnings.warn(\"nn.functional.sigmoid is deprecated. Use torch.sigmoid instead.\")\n",
            "/usr/local/lib/python3.7/dist-packages/torch/nn/functional.py:1806: UserWarning: nn.functional.sigmoid is deprecated. Use torch.sigmoid instead.\n",
            "  warnings.warn(\"nn.functional.sigmoid is deprecated. Use torch.sigmoid instead.\")\n",
            "/usr/local/lib/python3.7/dist-packages/torch/nn/functional.py:1806: UserWarning: nn.functional.sigmoid is deprecated. Use torch.sigmoid instead.\n",
            "  warnings.warn(\"nn.functional.sigmoid is deprecated. Use torch.sigmoid instead.\")\n",
            "/usr/local/lib/python3.7/dist-packages/torch/nn/functional.py:1806: UserWarning: nn.functional.sigmoid is deprecated. Use torch.sigmoid instead.\n",
            "  warnings.warn(\"nn.functional.sigmoid is deprecated. Use torch.sigmoid instead.\")\n",
            "/usr/local/lib/python3.7/dist-packages/torch/nn/functional.py:1806: UserWarning: nn.functional.sigmoid is deprecated. Use torch.sigmoid instead.\n",
            "  warnings.warn(\"nn.functional.sigmoid is deprecated. Use torch.sigmoid instead.\")\n",
            "/usr/local/lib/python3.7/dist-packages/torch/nn/functional.py:1806: UserWarning: nn.functional.sigmoid is deprecated. Use torch.sigmoid instead.\n",
            "  warnings.warn(\"nn.functional.sigmoid is deprecated. Use torch.sigmoid instead.\")\n",
            "/usr/local/lib/python3.7/dist-packages/torch/nn/functional.py:1806: UserWarning: nn.functional.sigmoid is deprecated. Use torch.sigmoid instead.\n",
            "  warnings.warn(\"nn.functional.sigmoid is deprecated. Use torch.sigmoid instead.\")\n",
            "/usr/local/lib/python3.7/dist-packages/torch/nn/functional.py:1806: UserWarning: nn.functional.sigmoid is deprecated. Use torch.sigmoid instead.\n",
            "  warnings.warn(\"nn.functional.sigmoid is deprecated. Use torch.sigmoid instead.\")\n",
            "/usr/local/lib/python3.7/dist-packages/torch/nn/functional.py:1806: UserWarning: nn.functional.sigmoid is deprecated. Use torch.sigmoid instead.\n",
            "  warnings.warn(\"nn.functional.sigmoid is deprecated. Use torch.sigmoid instead.\")\n"
          ]
        }
      ]
    },
    {
      "cell_type": "code",
      "source": [
        "d = [4,5,6,6]"
      ],
      "metadata": {
        "id": "mpeyVgBpi-R1"
      },
      "execution_count": null,
      "outputs": []
    }
  ]
}